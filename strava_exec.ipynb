{
 "cells": [
  {
   "cell_type": "code",
   "execution_count": 5,
   "metadata": {},
   "outputs": [],
   "source": [
    "import os\n",
    "from strava_utils import Strava_Handler"
   ]
  },
  {
   "cell_type": "code",
   "execution_count": 2,
   "metadata": {},
   "outputs": [],
   "source": [
    "# ---- Instanciate Strava Handler\n",
    "\n",
    "client_id = os.environ['STRAVA_CLIENT_ID']\n",
    "client_secrets = os.environ['STRAVA_CLIENT_SECRETS']\n",
    "auth_url = \"https://www.strava.com/oauth/authorize\"\n",
    "\n",
    "strava_handler = Strava_Handler(\n",
    "    client_id=client_id,\n",
    "    client_secrets=client_secrets\n",
    ")"
   ]
  },
  {
   "cell_type": "code",
   "execution_count": 3,
   "metadata": {},
   "outputs": [
    {
     "name": "stdout",
     "output_type": "stream",
     "text": [
      "Go to the following URL and authorize the app:\n",
      "https://www.strava.com/oauth/authorize?client_id=145566&response_type=code&redirect_uri=http://localhost/exchange_token&approval_prompt=force&scope=activity:read_all\n"
     ]
    }
   ],
   "source": [
    "# ---- Authentification code ----\n",
    "\n",
    "strava_handler.get_authorization_url()"
   ]
  },
  {
   "cell_type": "code",
   "execution_count": null,
   "metadata": {},
   "outputs": [
    {
     "name": "stdout",
     "output_type": "stream",
     "text": [
      "Tokens found !\n"
     ]
    }
   ],
   "source": [
    "auth_code = \"YOUR_AUTH_CODE\"\n",
    "strava_handler.set_auth(auth_code)"
   ]
  },
  {
   "cell_type": "code",
   "execution_count": 5,
   "metadata": {},
   "outputs": [],
   "source": [
    "activities = strava_handler.get_activities()\n",
    "\n",
    "map_all_activities = strava_handler.activity_map(activities=activities, save=True)"
   ]
  },
  {
   "cell_type": "code",
   "execution_count": 9,
   "metadata": {},
   "outputs": [
    {
     "data": {
      "text/plain": [
       "'qpfiHkftKSXKJa@FUJg@x@KLQLi@h@Gf@Wn@_@d@Ub@G?YSMEUBSFOLaBlBc@VgAd@SF{Av@E@UE]FW?UEi@W][y@eAe@cAUWKUgCgHaA{CW}Ai@{D]{@{AiCW]_@_AESA}@Ge@Oa@]i@w@kCG_@Gy@g@}DQkAOk@Mg@Wi@s@aAQa@G]Cu@EWSq@Sc@Qm@q@gDSc@cAcBK_@CeANcACSOi@AQDu@S[?ODONKFM@MEo@BWP]`@_@F]PkCDsAL_CRkBBk@LeA@w@Dw@RaBP{DRaCBoAHa@ZSRCDG\\\\wBX_DAk@HkBBkBR{CFkBBa@RcA@A@HD@Xe@NKDKBWDQTg@TYd@]^If@B~@`@n@TXTx@Lv@RfBx@p@TF?@CEQUOUEa@Mi@Kc@Q{Bu@yAm@{@MU@k@XYT[^m@j@a@HUTSAGBGLM`Bi@dD_@pAg@zBY`BYlA]fAEj@q@`E[jAKPUJ{@Hw@Eq@Wk@Yk@c@sBaAgEmCYI[Wu@_@a@]YOQSUIgBkAMKEIGUHoA?u@CSW}@@_@AICE]a@QWuCeGwDiKk@wBGKEAANLl@Vn@Pn@d@hABJ?HGLOH_@@k@PWDw@@SHHhB`@Gv@@j@IfBB^HJL|BpFbAxBd@pA^z@FTN|@AbALXd@b@`@Xd@VXHTV|AjAHJH`@FN|Al@PJXVjAj@jAv@jAh@VT@Ry@dCKP]f@_@p@_AjA[f@EVDNZXJ@FG\\\\sAPe@PaALg@jAeCd@o@N@`AXd@?~@OH?JHFZHhA@jAGx@]jA}@hCa@rAg@nA]lA}@zBo@pAgAjBOPi@\\\\QT?HFLVZb@n@lAlAn@H^ZrAPZH\\\\PPRJ`A^v@FXIfB?^BPP^h@p@`@z@ZjBb@jBFRVh@Nf@@v@F^Th@NRRPPXVl@XlAp@`FNfBJv@V|@~@lBLj@J|AHT\\\\d@xB`ERp@b@lD\\\\|Ab@lAZfAf@|A~@dC`@nA\\\\x@t@zAz@~@LD~@Hp@?f@QfAk@lAc@b@Wf@a@z@eAh@c@TGLBDHBV?PKj@Od@M\\\\kAxBa@bAY`@_Az@}@pACP@L^z@FN?Di@cAI_@FWl@mA'"
      ]
     },
     "execution_count": 9,
     "metadata": {},
     "output_type": "execute_result"
    }
   ],
   "source": [
    "activities[0].get('map').get('summary_polyline')"
   ]
  }
 ],
 "metadata": {
  "kernelspec": {
   "display_name": ".venv",
   "language": "python",
   "name": "python3"
  },
  "language_info": {
   "codemirror_mode": {
    "name": "ipython",
    "version": 3
   },
   "file_extension": ".py",
   "mimetype": "text/x-python",
   "name": "python",
   "nbconvert_exporter": "python",
   "pygments_lexer": "ipython3",
   "version": "3.13.1"
  }
 },
 "nbformat": 4,
 "nbformat_minor": 2
}
